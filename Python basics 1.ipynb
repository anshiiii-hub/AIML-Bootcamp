{
 "cells": [
  {
   "cell_type": "markdown",
   "id": "86ba553b-7c94-4f3d-b359-3f256c460abe",
   "metadata": {},
   "source": [
    "<img src=\"WhatsApp Image 2025-07-08 at 19.03.29_00464e9f.jpg\" alt=\"Banner\" width=\"1500\">"
   ]
  },
  {
   "cell_type": "markdown",
   "id": "44354109-b0d6-4c71-b814-593a366b9e37",
   "metadata": {},
   "source": [
    "---\n",
    "\n",
    "<!-- =============================== -->\n",
    "<!-- Agenda -->\n",
    "<div style=\"background-color:#FFFACD; padding:15px; border-radius:8px;\">\n",
    "<h1 style=\"text-align:center; font-family:'Comic Sans MS','Bradley Hand', cursive; font-weight:bold;\">\n",
    "Agenda\n",
    "</h1>\n",
    "    <h4><ul>\n",
    "    <li> What is Programming?</li>\n",
    "    <li>Why Python</li>\n",
    "    <li>Checking Versions</li>\n",
    "    <li>Basics of Python</li>\n",
    "    </h4>\n",
    "</div>"
   ]
  },
  {
   "cell_type": "markdown",
   "id": "25c12b5c-0cf0-4b4a-ab3e-ef38e8c5e5a8",
   "metadata": {},
   "source": [
    "<!-- =============================== -->\n",
    "<!-- Topic -->\n",
    "<div style=\"background-color:#E0FFFF; padding:15px; border-radius:8px;\">\n",
    "<h2 style=\"text-align:center;font-family:'Comic Sans MS','Bradley Hand', cursive; font-weight:bold;\">\n",
    "What is Programming? \n",
    "</h2>\n",
    "</div>"
   ]
  },
  {
   "cell_type": "markdown",
   "id": "c16ebfe2-a00a-4f46-80aa-060e83ae3331",
   "metadata": {},
   "source": [
    "Programming is the process of writing instructions, called code, that a computer can understand and execute. It is fundamentally a way to communicate with a computer to perform tasks, automate processes, solve problems, and build software applications.\n",
    "</p>\n",
    "    <ul>\n",
    "        <li>Purpose: Automate tasks, process data, control hardware, create applications, etc.</li>\n",
    "        <li>Programming Languages: Special languages (Python, Java, C, etc.) designed to write these instructions</li>\n",
    "        <li>How it Works: The written code is either compiled (converted into machine code ahead of time) or interpreted (executed line by line).</li>"
   ]
  },
  {
   "cell_type": "markdown",
   "id": "4c6f855d-f10e-4c16-a8fb-143014fb9065",
   "metadata": {},
   "source": [
    "<!-- =============================== -->\n",
    "<!-- Sub Topic -->\n",
    "<div style=\"background-color:#E6E6FA; padding:15px; border-radius:8px;\">\n",
    "<h3  style=\"font-family:'Comic Sans MS','Bradley Hand', cursive; font-weight:bold;\">\n",
    "Key Characteristics:\n",
    "</h3>\n",
    "</div>\n"
   ]
  },
  {
   "cell_type": "markdown",
   "id": "8ab79cd9-3b12-466c-ba13-cc93a993ce83",
   "metadata": {},
   "source": [
    "<ul>\n",
    "    <li>Requires logical thinking, attention to detail, and problem-solving skills.</li>\n",
    "\n",
    "<li>Translates human ideas/requirements into executable code.</li>"
   ]
  },
  {
   "cell_type": "markdown",
   "id": "874d9751-b063-4661-8e43-68b73498dc29",
   "metadata": {},
   "source": [
    "<!-- =============================== -->\n",
    "<!-- Topic -->\n",
    "<div style=\"background-color:#E0FFFF; padding:15px; border-radius:8px;\">\n",
    "<h2 style=\" text-align:center;font-family:'Comic Sans MS','Bradley Hand', cursive; font-weight:bold;\">\n",
    "What is Python? \n",
    "</h2>\n",
    "</div>"
   ]
  },
  {
   "cell_type": "markdown",
   "id": "67d72f02-f3f0-444d-a465-cb5781b18291",
   "metadata": {},
   "source": [
    "Python is a popular programming language. It was created by Guido van Rossum, and released in 1991.\n",
    "\n",
    "It is used for:\n",
    "<ul>\n",
    "<li>web development (server-side),</li>\n",
    "<li>software development,</li>\n",
    "<li>mathematics,</li>\n",
    "<li>system scripting.</li>"
   ]
  },
  {
   "cell_type": "markdown",
   "id": "c2aab485-e3ac-42bc-a7a7-ab368d767352",
   "metadata": {},
   "source": [
    "<!-- =============================== -->\n",
    "<!-- Sub Topic -->\n",
    "<div style=\"background-color:#E6E6FA; padding:15px; border-radius:8px;\">\n",
    "<h3  style=\"font-family:'Comic Sans MS','Bradley Hand', cursive; font-weight:bold;\">\n",
    "What can Python do ?\n",
    "</h3>\n",
    "</div>"
   ]
  },
  {
   "cell_type": "markdown",
   "id": "dce6a892-cc0d-4b8c-9820-16a901dd95bc",
   "metadata": {},
   "source": [
    "<ul>\n",
    "<li>Python can be used on a server to create web applications.</li>\n",
    "<li>Python can be used alongside software to create workflows.</li>\n",
    "<li>Python can connect to database systems. It can also read and modify files.</li>\n",
    "<li>Python can be used to handle big data and perform complex mathematics.</li>\n",
    "<li>Python can be used for rapid prototyping, or for production-ready software development.</li>\n",
    "</ul>"
   ]
  },
  {
   "cell_type": "markdown",
   "id": "eb31aff5-6cf2-42f4-85d9-b34f7cecbbd0",
   "metadata": {},
   "source": [
    "<!-- =============================== -->\n",
    "<!-- Sub Topic -->\n",
    "<div style=\"background-color:#E6E6FA; padding:15px; border-radius:8px;\">\n",
    "<h3  style=\"font-family:'Comic Sans MS','Bradley Hand', cursive; font-weight:bold;\">\n",
    "Whyy Python ?\n",
    "</h3>\n",
    "</div>"
   ]
  },
  {
   "cell_type": "markdown",
   "id": "7e888181-c77f-4d58-bb62-937c53e2e81e",
   "metadata": {},
   "source": [
    "<ul>\n",
    "<li>Python works on different platforms (Windows, Mac, Linux, Raspberry Pi, etc).\n",
    "<li>Python has a simple syntax similar to the English language.</li>\n",
    "<li>Python has syntax that allows developers to write programs with fewer lines than some other programming languages.</li>\n",
    "<li>Python runs on an interpreter system, meaning that code can be executed as soon as it is written. This means that prototyping can be very quick.</li>\n",
    "<li>Python can be treated in a procedural way, an object-oriented way or a functional way.</li>"
   ]
  },
  {
   "cell_type": "markdown",
   "id": "a7063cc7-be43-4664-a1f3-e4e0685239de",
   "metadata": {},
   "source": [
    "<!-- =============================== -->\n",
    "<!-- Topic -->\n",
    "<div style=\"background-color:#E0FFFF; padding:15px; border-radius:8px;\">\n",
    "<h2 style=\" text-align:center; font-family:'Comic Sans MS','Bradley Hand', cursive; font-weight:bold;\">\n",
    "Checking Versions in Jupyter Notebook\n",
    "</h2>\n",
    "</div>"
   ]
  },
  {
   "cell_type": "markdown",
   "id": "a575e181-76a0-4a1b-a2e6-6ecb8235992e",
   "metadata": {},
   "source": [
    "<!-- =============================== -->\n",
    "<!-- Sub Topic -->\n",
    "<div style=\"background-color:#E6E6FA; padding:15px; border-radius:8px;\">\n",
    "<h4  style=\"font-family:'Comic Sans MS','Bradley Hand', cursive; font-weight:bold;\">\n",
    "1. Checking Python Version \n",
    "</h4>\n",
    "</div>"
   ]
  },
  {
   "cell_type": "markdown",
   "id": "0158e7ed-952a-4356-9a96-226e21d78a36",
   "metadata": {},
   "source": [
    "<!-- =============================== -->\n",
    "<!-- 3️⃣ Code Snippet Section (Display) -->\n",
    "<div style=\"background-color:#FFFACD; padding:15px; border-radius:8px;\">\n",
    "<h4 style=\"text-align:center;font-family:'Comic Sans MS','Bradley Hand'; font-weight:bold;\">\n",
    "<b>Using Python Code </b>\n",
    "</h4>\n",
    "<pre>\n",
    "<code>\n",
    "import sys\n",
    "print(sys.version)  # Shows detailed Python version and build info\n",
    "\n",
    "</code>\n",
    "</pre>\n",
    "</div>\n"
   ]
  },
  {
   "cell_type": "code",
   "execution_count": 17,
   "id": "b1717ccd-0f94-4b39-a4af-8edc15c2f428",
   "metadata": {},
   "outputs": [
    {
     "name": "stdout",
     "output_type": "stream",
     "text": [
      "3.13.5 | packaged by Anaconda, Inc. | (main, Jun 12 2025, 16:37:03) [MSC v.1929 64 bit (AMD64)]\n"
     ]
    }
   ],
   "source": [
    "import sys\n",
    "print(sys.version)\n"
   ]
  },
  {
   "cell_type": "markdown",
   "id": "dbfd12f3-e59a-4ad3-98bb-dfd6705175d6",
   "metadata": {},
   "source": [
    "<!-- =============================== -->\n",
    "<!-- 3️⃣ Code Snippet Section (Display) -->\n",
    "<div style=\"background-color:#FFFACD; padding:15px; border-radius:8px;\">\n",
    "<h4 style=\"text-align:center;font-family:'Comic Sans MS','Bradley Hand'; font-weight:bold;\">\n",
    "<b>Using Platform Module</b>\n",
    "</h4>\n",
    "<pre>\n",
    "<code>\n",
    " import platform\n",
    "print(platform.python_version())  # Shows main Python version \n",
    "</code>\n",
    "</pre>\n",
    "</div>\n"
   ]
  },
  {
   "cell_type": "code",
   "execution_count": 12,
   "id": "256cdcb0-0194-482a-933e-aa900122ce6a",
   "metadata": {},
   "outputs": [
    {
     "name": "stdout",
     "output_type": "stream",
     "text": [
      "3.13.5\n"
     ]
    }
   ],
   "source": [
    "import platform\n",
    "print(platform.python_version())\n"
   ]
  },
  {
   "cell_type": "markdown",
   "id": "a1c4dbbf-40a5-4209-9feb-5e378b85ae25",
   "metadata": {},
   "source": [
    "<!-- =============================== -->\n",
    "<!-- Code Snippet Section (Display) -->\n",
    "<div style=\"background-color:#FFFACD; padding:15px; border-radius:8px;\">\n",
    "<h4 style=\"text-align:center;font-family:'Comic Sans MS','Bradley Hand'; font-weight:bold;\">\n",
    "<b>Using Terminal command inside the Notebook</b>\n",
    "</h4>\n",
    "<pre>\n",
    "<code>\n",
    " !python --version\n",
    "# or\n",
    "!python -V\n",
    "\n",
    "</code>\n",
    "</pre>\n",
    "</div>"
   ]
  },
  {
   "cell_type": "code",
   "execution_count": 19,
   "id": "417c4a8d-0c19-4ba8-a3a2-ebdf4810759e",
   "metadata": {},
   "outputs": [
    {
     "name": "stdout",
     "output_type": "stream",
     "text": [
      "Python 3.13.5\n",
      "Python 3.13.5\n"
     ]
    }
   ],
   "source": [
    "!python --version\n",
    "# or\n",
    "!python -V\n"
   ]
  },
  {
   "cell_type": "markdown",
   "id": "9d18e3b7-49aa-43cc-ac47-31213049c8cf",
   "metadata": {},
   "source": [
    "<!-- =============================== -->\n",
    "<!-- Sub Topic -->\n",
    "<div style=\"background-color:#E6E6FA; padding:15px; border-radius:8px;\">\n",
    "<h4  style=\"font-family:'Comic Sans MS','Bradley Hand', cursive; font-weight:bold;\">\n",
    "2. Checking Pip Version \n",
    "</h4>\n",
    "</div>"
   ]
  },
  {
   "cell_type": "markdown",
   "id": "8baedc64-a7ae-449b-836b-c5eb0005fa4a",
   "metadata": {},
   "source": [
    "<!-- =============================== -->\n",
    "<!-- Code Snippet Section (Display) -->\n",
    "<div style=\"background-color:#FFFACD; padding:15px; border-radius:8px;\">\n",
    "<h4 style=\"text-align:center;font-family:'Comic Sans MS','Bradley Hand'; font-weight:bold;\">\n",
    "<b> Pip Version</b>\n",
    "</h4>\n",
    "<pre>\n",
    "<code>\n",
    " !python --version\n",
    "# or\n",
    "!python -V\n",
    "\n",
    "</code>\n",
    "</pre>\n",
    "</div>"
   ]
  },
  {
   "cell_type": "code",
   "execution_count": 7,
   "id": "868a349c-643d-4974-bab6-ae5d3cc3381d",
   "metadata": {},
   "outputs": [
    {
     "name": "stdout",
     "output_type": "stream",
     "text": [
      "pip 25.1 from C:\\Users\\Asus\\anaconda3\\Lib\\site-packages\\pip (python 3.13)\n",
      "\n"
     ]
    }
   ],
   "source": [
    "!pip --version"
   ]
  },
  {
   "cell_type": "markdown",
   "id": "6c84a3f2-13aa-4dd8-a96a-408580f82202",
   "metadata": {},
   "source": [
    "<!-- =============================== -->\n",
    "<!-- Sub Topic -->\n",
    "<div style=\"background-color:#E6E6FA; padding:15px; border-radius:8px;\">\n",
    "<h4  style=\"font-family:'Comic Sans MS','Bradley Hand', cursive; font-weight:bold;\">\n",
    "3. Checking Conda Version and Info\n",
    "</h4>\n",
    "</div>"
   ]
  },
  {
   "cell_type": "markdown",
   "id": "c5001105-94bd-4496-941b-16a6649e42b4",
   "metadata": {},
   "source": [
    "<!-- =============================== -->\n",
    "<!-- Code Snippet Section (Display) -->\n",
    "<div style=\"background-color:#FFFACD; padding:15px; border-radius:8px;\">\n",
    "<h4 style=\"text-align:center;font-family:'Comic Sans MS','Bradley Hand'; font-weight:bold;\">\n",
    "<b> Conda Version</b>\n",
    "</h4>\n",
    "<pre>\n",
    "<code>\n",
    " !conda --version\n",
    "\n",
    "</code>\n",
    "</pre>\n",
    "</div>"
   ]
  },
  {
   "cell_type": "code",
   "execution_count": 20,
   "id": "aa858788-cbdd-4d22-b3da-389547b79cb8",
   "metadata": {},
   "outputs": [
    {
     "name": "stdout",
     "output_type": "stream",
     "text": [
      "conda 25.5.1\n"
     ]
    }
   ],
   "source": [
    "!conda --version\n"
   ]
  },
  {
   "cell_type": "markdown",
   "id": "f6fb8f0b-eae1-4e94-8061-c27c29283ca1",
   "metadata": {},
   "source": [
    "<!-- =============================== -->\n",
    "<!-- Code Snippet Section (Display) -->\n",
    "<div style=\"background-color:#FFFACD; padding:15px; border-radius:8px;\">\n",
    "<h4 style=\"text-align:center;font-family:'Comic Sans MS','Bradley Hand'; font-weight:bold;\">\n",
    "<b> Conda Info</b>\n",
    "</h4>\n",
    "<pre>\n",
    "<code>\n",
    " !conda info\n",
    "</code>\n",
    "</pre>\n",
    "</div>"
   ]
  },
  {
   "cell_type": "code",
   "execution_count": 11,
   "id": "920e26b2-63b3-4dd3-a640-5bde4feb0005",
   "metadata": {},
   "outputs": [
    {
     "name": "stdout",
     "output_type": "stream",
     "text": [
      "\n",
      "     active environment : base\n",
      "    active env location : C:\\Users\\Asus\\anaconda3\n",
      "            shell level : 1\n",
      "       user config file : C:\\Users\\Asus\\.condarc\n",
      " populated config files : C:\\Users\\Asus\\anaconda3\\.condarc\n",
      "                          C:\\Users\\Asus\\.condarc\n",
      "          conda version : 25.5.1\n",
      "    conda-build version : 25.5.0\n",
      "         python version : 3.13.5.final.0\n",
      "                 solver : libmamba (default)\n",
      "       virtual packages : __archspec=1=x86_64_v3\n",
      "                          __conda=25.5.1=0\n",
      "                          __win=10.0.26100=0\n",
      "       base environment : C:\\Users\\Asus\\anaconda3  (writable)\n",
      "      conda av data dir : C:\\Users\\Asus\\anaconda3\\etc\\conda\n",
      "  conda av metadata url : None\n",
      "           channel URLs : https://repo.anaconda.com/pkgs/main/win-64\n",
      "                          https://repo.anaconda.com/pkgs/main/noarch\n",
      "                          https://repo.anaconda.com/pkgs/r/win-64\n",
      "                          https://repo.anaconda.com/pkgs/r/noarch\n",
      "                          https://repo.anaconda.com/pkgs/msys2/win-64\n",
      "                          https://repo.anaconda.com/pkgs/msys2/noarch\n",
      "          package cache : C:\\Users\\Asus\\anaconda3\\pkgs\n",
      "                          C:\\Users\\Asus\\.conda\\pkgs\n",
      "                          C:\\Users\\Asus\\AppData\\Local\\conda\\conda\\pkgs\n",
      "       envs directories : C:\\Users\\Asus\\anaconda3\\envs\n",
      "                          C:\\Users\\Asus\\.conda\\envs\n",
      "                          C:\\Users\\Asus\\AppData\\Local\\conda\\conda\\envs\n",
      "               platform : win-64\n",
      "             user-agent : conda/25.5.1 requests/2.32.3 CPython/3.13.5 Windows/11 Windows/10.0.26100 solver/libmamba conda-libmamba-solver/25.4.0 libmambapy/2.0.5 aau/0.7.1 c/. s/. e/.\n",
      "          administrator : False\n",
      "             netrc file : None\n",
      "           offline mode : False\n",
      "\n"
     ]
    }
   ],
   "source": [
    "!conda info\n"
   ]
  },
  {
   "cell_type": "markdown",
   "id": "d230088e-9a85-45c0-922c-f72f585666b6",
   "metadata": {},
   "source": [
    "<!-- =============================== -->\n",
    "<!-- Sub Topic -->\n",
    "<div style=\"background-color:#E6E6FA; padding:15px; border-radius:8px;\">\n",
    "<h4  style=\"font-family:'Comic Sans MS','Bradley Hand', cursive; font-weight:bold;\">\n",
    "4. Checking Jupyter Notebook Version \n",
    "</h4>\n",
    "</div>"
   ]
  },
  {
   "cell_type": "markdown",
   "id": "3e252183-7b90-4ff7-962d-3a5d20190609",
   "metadata": {},
   "source": [
    "<!-- =============================== -->\n",
    "<!-- Code Snippet Section (Display) -->\n",
    "<div style=\"background-color:#FFFACD; padding:15px; border-radius:8px;\">\n",
    "<h4 style=\"text-align:center;font-family:'Comic Sans MS','Bradley Hand'; font-weight:bold;\">\n",
    "<b> Jupyter Notebook Version</b>\n",
    "</h4>\n",
    "<pre>\n",
    "<code>\n",
    " !jupyter notebook --version\n",
    "</code>\n",
    "</pre>\n",
    "</div>"
   ]
  },
  {
   "cell_type": "code",
   "execution_count": 15,
   "id": "136ed145-3905-4a5a-bbc1-9c7f962484c1",
   "metadata": {},
   "outputs": [
    {
     "name": "stdout",
     "output_type": "stream",
     "text": [
      "7.3.2\n"
     ]
    }
   ],
   "source": [
    "!jupyter notebook --version\n"
   ]
  },
  {
   "cell_type": "markdown",
   "id": "326540e4-d0bd-4d44-8ea0-c15d5020c6eb",
   "metadata": {},
   "source": [
    "<!-- =============================== -->\n",
    "<!-- Topic -->\n",
    "<div style=\"background-color:#E0FFFF; padding:15px; border-radius:8px;\">\n",
    "<h2 style=\" text-align:center; font-family:'Comic Sans MS','Bradley Hand', cursive; font-weight:bold;\">\n",
    "Basics of Python\n",
    "</h2>\n",
    "</div>"
   ]
  },
  {
   "cell_type": "markdown",
   "id": "7b875e8b-f025-4792-84e5-802aea33d93d",
   "metadata": {},
   "source": [
    "<!-- =============================== -->\n",
    "<!-- Sub Topic -->\n",
    "<div style=\"background-color:#E6E6FA; padding:15px; border-radius:8px;\">\n",
    "<h4  style=\"font-family:'Comic Sans MS','Bradley Hand', cursive; font-weight:bold;\">\n",
    "Python Indentation\n",
    "</h4>\n",
    "</div>"
   ]
  },
  {
   "cell_type": "markdown",
   "id": "533ff81e-0779-4851-8643-c5bc1c9d12ca",
   "metadata": {},
   "source": [
    "Indentation refers to the spaces at the beginning of a code line.\n",
    "\n",
    "Where in other programming languages the indentation in code is for readability only, the indentation in Python is very important.\n",
    "\n",
    "Python uses indentation to indicate a block of code."
   ]
  },
  {
   "cell_type": "markdown",
   "id": "ae5f5595-8dcf-4a3f-8f08-39220362f55a",
   "metadata": {},
   "source": [
    "<!-- =============================== -->\n",
    "<!-- Code Snippet Section (Display) -->\n",
    "<div style=\"background-color:#FFFACD; padding:15px; border-radius:8px;\">\n",
    "<h4 style=\"text-align:center;font-family:'Comic Sans MS','Bradley Hand'; font-weight:bold;\">\n",
    "<b> Indentation </b>\n",
    "</h4>\n",
    "<pre>\n",
    "<code>\n",
    "if 5 > 2:\n",
    "  print(\"Five is greater than two!\")\n",
    "</code>\n",
    "</pre>\n",
    "</div>"
   ]
  },
  {
   "cell_type": "code",
   "execution_count": 24,
   "id": "900b52f7-5252-40a5-8c5c-928fc576f6e4",
   "metadata": {},
   "outputs": [
    {
     "name": "stdout",
     "output_type": "stream",
     "text": [
      "Five is greater than two!\n"
     ]
    }
   ],
   "source": [
    "if 5 > 2:\n",
    " print(\"Five is greater than two!\")"
   ]
  },
  {
   "cell_type": "markdown",
   "id": "7c342195-0363-4a88-a12e-1577c61dd4b6",
   "metadata": {},
   "source": [
    "<!-- =============================== -->\n",
    "<!-- Sub Topic -->\n",
    "<div style=\"background-color:#E6E6FA; padding:15px; border-radius:8px;\">\n",
    "<h4  style=\"font-family:'Comic Sans MS','Bradley Hand', cursive; font-weight:bold;\">\n",
    "Python Variable\n",
    "</h4>\n",
    "</div>"
   ]
  },
  {
   "cell_type": "markdown",
   "id": "5176420a-c490-49dc-a7df-1cd211fd9879",
   "metadata": {},
   "source": [
    "Variables are containers for storing data values.<br>\n",
    "\n",
    "Python has no command for declaring a variable.<br>\n",
    "A variable is created the moment you first assign a value to it.<br>\n",
    "\n",
    "<h4 style='text-align:center'><b>Variable Name</b></h4>\n",
    "A variable can have a short name (like x and y) or a more descriptive name (age, carname, total_volume).\n",
    "\n",
    "<b>Rules for Python variables:</b>\n",
    "\n",
    "<li>A variable name must start with a letter or the underscore character</li>\n",
    "<li>A variable name cannot start with a number</li>\n",
    "<li>A variable name can only contain alpha-numeric characters and underscores (A-z, 0-9, and _ )</li>\n",
    "<li>Variable names are case-sensitive (age, Age and AGE are three different variables)</li>\n",
    "<li>A variable name cannot be any of the Python keywords.</li>"
   ]
  },
  {
   "cell_type": "markdown",
   "id": "704e2c2a-6aaf-4e02-b6d2-da7d05e9d669",
   "metadata": {},
   "source": [
    "<!-- =============================== -->\n",
    "<!-- Code Snippet Section (Display) -->\n",
    "<div style=\"background-color:#FFFACD; padding:15px; border-radius:8px;\">\n",
    "<h4 style=\"text-align:center;font-family:'Comic Sans MS','Bradley Hand'; font-weight:bold;\">\n",
    "<b> Creating Variables </b>\n",
    "</h4>\n",
    "<pre>\n",
    "<code>\n",
    "x = 5\n",
    "y = \"John\"\n",
    "print(x)\n",
    "print(y)\n",
    "</code>\n",
    "</pre>\n",
    "</div>"
   ]
  },
  {
   "cell_type": "code",
   "execution_count": 22,
   "id": "c977074e-ec7f-46c8-a1cd-59f11192e6dd",
   "metadata": {},
   "outputs": [
    {
     "name": "stdout",
     "output_type": "stream",
     "text": [
      "5\n",
      "John\n"
     ]
    }
   ],
   "source": [
    "x = 5\n",
    "y = \"John\"\n",
    "print(x)\n",
    "print(y)"
   ]
  },
  {
   "cell_type": "markdown",
   "id": "43dc6eeb-5b51-4f3c-bd83-a7573ad7a53c",
   "metadata": {},
   "source": [
    "Variables do not need to be declared with any particular type, and can even change type after they have been set."
   ]
  },
  {
   "cell_type": "markdown",
   "id": "d14259a7-8f1a-443b-a2bb-f54ff239d3d8",
   "metadata": {},
   "source": [
    "<!-- =============================== -->\n",
    "<!-- Code Snippet Section (Display) -->\n",
    "<div style=\"background-color:#FFFACD; padding:15px; border-radius:8px;\">\n",
    "<h4 style=\"text-align:center;font-family:'Comic Sans MS','Bradley Hand'; font-weight:bold;\">\n",
    "<b> Dynamic Values </b>\n",
    "</h4>\n",
    "<pre>\n",
    "<code>\n",
    "x = 5      # x is of type int\n",
    "x = \"John\" # x is now of type str\n",
    "print(x)\n",
    "</code>\n",
    "</pre>\n",
    "</div>"
   ]
  },
  {
   "cell_type": "code",
   "execution_count": 23,
   "id": "f39772e1-515c-47f7-879c-30b82a673d79",
   "metadata": {},
   "outputs": [
    {
     "name": "stdout",
     "output_type": "stream",
     "text": [
      "John\n"
     ]
    }
   ],
   "source": [
    "x = 5      # x is of type int\n",
    "x = \"John\" # x is now of type str\n",
    "print(x)"
   ]
  },
  {
   "cell_type": "markdown",
   "id": "b6fc9120-1662-4fd0-b72e-bd7b37b5bc82",
   "metadata": {},
   "source": [
    "<li>If you want to specify the data type of a variable, this can be done with casting.</li>"
   ]
  },
  {
   "cell_type": "markdown",
   "id": "3aa2be95-38c7-409c-ad47-9bc980f11d2c",
   "metadata": {},
   "source": [
    "<!-- =============================== -->\n",
    "<!-- Code Snippet Section (Display) -->\n",
    "<div style=\"background-color:#FFFACD; padding:15px; border-radius:8px;\">\n",
    "<h4 style=\"text-align:center;font-family:'Comic Sans MS','Bradley Hand'; font-weight:bold;\">\n",
    "<b> Casting </b>\n",
    "</h4>\n",
    "<pre>\n",
    "<code>\n",
    "x = str(3) # x will be '3'\n",
    "y = int(3)    # y will be 3\n",
    "z = float(3)  # z will be 3.0\n",
    "\n",
    "</code>\n",
    "</pre>\n",
    "</div>"
   ]
  },
  {
   "cell_type": "code",
   "execution_count": 31,
   "id": "c17d88ad-4b25-47cf-b8d5-694f9a50ea06",
   "metadata": {},
   "outputs": [],
   "source": [
    "x = str(3) # x will be '3'\n",
    "\n",
    "y = int(3)    # y will be 3\n",
    "\n",
    "z = float(3)  # z will be 3.0\n"
   ]
  },
  {
   "cell_type": "markdown",
   "id": "9e12f2e4-e5a0-4c8a-a6c8-31c46bb2066a",
   "metadata": {},
   "source": [
    "<!-- =============================== -->\n",
    "<!-- Sub Topic -->\n",
    "<div style=\"background-color:#E6E6FA; padding:15px; border-radius:8px;\">\n",
    "<h4 style=\"text-align:center; font-family:'Comic Sans MS','Bradley Hand', cursive; font-weight:bold;\">\n",
    "Python Data Types \n",
    "</h4>\n",
    "</div>\n"
   ]
  },
  {
   "cell_type": "markdown",
   "id": "5a4e0678-3a68-4a0a-9863-2753b99d6467",
   "metadata": {},
   "source": [
    "In programming, data type is an important concept.\n",
    "\n",
    "Variables can store data of different types, and different types can do different things.\n",
    "\n",
    "Python has the following data types built-in by default, in these categories:\n"
   ]
  },
  {
   "cell_type": "markdown",
   "id": "4598dc53-72e2-4abd-82b8-0bf36b938ec9",
   "metadata": {},
   "source": [
    "\n",
    "\n",
    "#### **Numbers**\n",
    "\n",
    "These include integers and floating-point numbers.\n",
    "\n",
    "- **Integers (`int`)**: Whole numbers  \n",
    "  *Examples*: `5`, `-3`, `42`\n",
    "\n",
    "- **Floats (`float`)**: Numbers with a decimal point  \n",
    "  *Examples*: `3.14`, `-0.001`\n",
    "\n",
    "---\n",
    "\n",
    "#### **Strings (`str`)**\n",
    "\n",
    "Sequences of characters enclosed in single quotes, double quotes, or triple quotes.\n",
    "\n",
    "- **Single-line String**: `\"Hello\"`  \n",
    "- **Multi-line String**: `\"\"\"Hello, World!\"\"\"`\n",
    "\n",
    "---\n",
    "\n",
    "#### **Booleans (`bool`)**\n",
    "\n",
    "Represents truth values: `True` or `False`.\n",
    "\n",
    "---\n",
    "\n",
    "#### **Lists**\n",
    "\n",
    "Ordered, **mutable** collections of items, which can be of mixed types.  \n",
    "*Example*: `[1, \"apple\", 3.14, True]`\n",
    "\n",
    "---\n",
    "\n",
    "#### **Tuples**\n",
    "\n",
    "Ordered, **immutable** collections of items.  \n",
    "*Example*: `(1, \"banana\", 4.5)`\n",
    "\n",
    "---\n",
    "\n",
    "#### **Dictionaries**\n",
    "\n",
    "Unordered collections of **key-value** pairs.  \n",
    "*Example*: `{\"name\": \"Alice\", \"age\": 25}`\n",
    "\n",
    "---\n",
    "\n",
    "#### **Sets**\n",
    "\n",
    "Unordered collections of **unique** items.  \n",
    "*Example*: `{1, 2, 3, 3}` → `{1, 2, 3}`\n",
    "\n",
    "---\n",
    "\n",
    "#### **None**\n",
    "\n",
    "Represents the **absence of a value** or a null value.  \n",
    "*Example*: `x = None`\n",
    "\n",
    "---\n",
    "\n",
    "Each data type serves different purposes and has different methods associated with it. For example, **lists** and **dictionaries** have methods to modify their content, while **tuples** and **strings** do not.\n"
   ]
  },
  {
   "cell_type": "markdown",
   "id": "3c016e21-431f-44cc-8ed3-3527f8384f13",
   "metadata": {},
   "source": [
    "<!-- =============================== -->\n",
    "<!-- Code Snippet Section (Display) -->\n",
    "<div style=\"background-color:#FFFACD; padding:15px; border-radius:8px;\">\n",
    "<h4 style=\"text-align:center;font-family:'Comic Sans MS','Bradley Hand'; font-weight:bold;\">\n",
    "<b> Getting the type </b>\n",
    "</h4>\n",
    "<pre>\n",
    "<code>\n",
    "x = 5\n",
    "print(type(x))\n",
    "</code>\n",
    "</pre>\n",
    "</div>"
   ]
  },
  {
   "cell_type": "code",
   "execution_count": 33,
   "id": "6f463439-6db6-4b25-817b-3e3d11e02789",
   "metadata": {},
   "outputs": [
    {
     "name": "stdout",
     "output_type": "stream",
     "text": [
      "<class 'int'>\n"
     ]
    }
   ],
   "source": [
    "x = 5\n",
    "print(type(x))"
   ]
  },
  {
   "cell_type": "markdown",
   "id": "b05c6029-046a-4faf-86c6-d072ad3cc8df",
   "metadata": {},
   "source": [
    "<!-- =============================== -->\n",
    "<!-- Sub Topic -->\n",
    "<div style=\"background-color:#E6E6FA; padding:15px; border-radius:8px;\">\n",
    "<h4 style=\"text-align:center; font-family:'Comic Sans MS','Bradley Hand', cursive; font-weight:bold;\">\n",
    "Python Numbers\n",
    "</h4>\n",
    "</div>\n"
   ]
  },
  {
   "cell_type": "markdown",
   "id": "7148743d-4b62-4287-9fff-110eb9b61093",
   "metadata": {},
   "source": [
    "There are three numeric types in Python:\n",
    "\n",
    "<li>int</li>\n",
    "<li>float</li>\n",
    "<li>complex</li>\n",
    "Variables of numeric types are created when you assign a value to them:"
   ]
  },
  {
   "cell_type": "markdown",
   "id": "f9eed444-0828-442f-aba3-784389c50b73",
   "metadata": {},
   "source": [
    "<!-- =============================== -->\n",
    "<!-- Code Snippet Section (Display) -->\n",
    "<div style=\"background-color:#FFFACD; padding:15px; border-radius:8px;\">\n",
    "<h4 style=\"text-align:center;font-family:'Comic Sans MS','Bradley Hand'; font-weight:bold;\">\n",
    "<b> Getting the type of Python Numbers</b>\n",
    "</h4>\n",
    "<pre>\n",
    "<code>\n",
    "x = 1    # int\n",
    "y = 2.8  # float\n",
    "z = 1j   # complex\n",
    "print(type(x))\n",
    "print(type(y))\n",
    "print(type(z))\n",
    "</code>\n",
    "</pre>\n",
    "</div>"
   ]
  },
  {
   "cell_type": "code",
   "execution_count": 38,
   "id": "35eef7ac-b9b0-4d68-b722-eb4e92845833",
   "metadata": {},
   "outputs": [
    {
     "name": "stdout",
     "output_type": "stream",
     "text": [
      "<class 'int'>\n",
      "<class 'float'>\n",
      "<class 'complex'>\n"
     ]
    }
   ],
   "source": [
    "x = 1    # int\n",
    "y = 2.8  # float\n",
    "z = 1j   # complex\n",
    "print(type(x))\n",
    "print(type(y))\n",
    "print(type(z))"
   ]
  },
  {
   "cell_type": "markdown",
   "id": "137ed8c0-8de5-4f59-bab2-0013aff0390a",
   "metadata": {},
   "source": [
    "You can convert from one type to another with the int(), float(), and complex() methods:"
   ]
  },
  {
   "cell_type": "markdown",
   "id": "c05b37bb-2198-403e-a006-ba05cad5acd4",
   "metadata": {},
   "source": [
    "<!-- =============================== -->\n",
    "<!-- Code Snippet Section (Display) -->\n",
    "<div style=\"background-color:#FFFACD; padding:15px; border-radius:8px;\">\n",
    "<h4 style=\"text-align:center;font-family:'Comic Sans MS','Bradley Hand'; font-weight:bold;\">\n",
    "<b> Type conversion of Python Numbers</b>\n",
    "</h4>\n",
    "<pre>\n",
    "<code>\n",
    "x = 1    # int\n",
    "y = 2.8  # float\n",
    "z = 1j   # complex\n",
    "\n",
    "#convert from int to float:\n",
    "a = float(x)\n",
    "\n",
    "#convert from float to int:\n",
    "b = int(y)\n",
    "\n",
    "#convert from int to complex:\n",
    "c = complex(x)\n",
    "\n",
    "print(a)\n",
    "print(b)\n",
    "print(c)\n",
    "\n",
    "print(type(a))\n",
    "print(type(b))\n",
    "print(type(c))\n",
    "</code>\n",
    "</pre>\n",
    "</div>"
   ]
  },
  {
   "cell_type": "code",
   "execution_count": 37,
   "id": "27711aaf-6302-46b1-a3bb-a32035856f64",
   "metadata": {},
   "outputs": [
    {
     "name": "stdout",
     "output_type": "stream",
     "text": [
      "1.0\n",
      "2\n",
      "(1+0j)\n",
      "<class 'float'>\n",
      "<class 'int'>\n",
      "<class 'complex'>\n"
     ]
    }
   ],
   "source": [
    "x = 1    # int\n",
    "y = 2.8  # float\n",
    "z = 1j   # complex\n",
    "\n",
    "#convert from int to float:\n",
    "a = float(x)\n",
    "\n",
    "#convert from float to int:\n",
    "b = int(y)\n",
    "\n",
    "#convert from int to complex:\n",
    "c = complex(x)\n",
    "\n",
    "print(a)\n",
    "print(b)\n",
    "print(c)\n",
    "\n",
    "print(type(a))\n",
    "print(type(b))\n",
    "print(type(c))"
   ]
  },
  {
   "cell_type": "markdown",
   "id": "b1024dc2-4875-4bc2-a228-d36762b0fdfa",
   "metadata": {},
   "source": [
    "<!-- =============================== -->\n",
    "<!-- Sub Topic -->\n",
    "<div style=\"background-color:#E6E6FA; padding:15px; border-radius:8px;\">\n",
    "<h4 style=\"text-align:center; font-family:'Comic Sans MS','Bradley Hand', cursive; font-weight:bold;\">\n",
    "Python Casting\n",
    "</h4>\n",
    "</div>\n"
   ]
  },
  {
   "cell_type": "markdown",
   "id": "d119cbec-4e70-4c47-8ae5-6718afaf4080",
   "metadata": {},
   "source": [
    "There may be times when you want to specify a type on to a variable. This can be done with casting. Python is an object-orientated language, and as such it uses classes to define data types, including its primitive types.\n",
    "\n",
    "Casting in python is therefore done using constructor functions:\n",
    "\n",
    "<li><b style=\"color:red\">int()</b> - constructs an integer number from an integer literal, a float literal (by removing all decimals), or a string literal (provided the string represents a whole number)</li>\n",
    "<li><b style=\"color:red\">float()</b> - constructs a float number from an integer literal, a float literal, or a string literal (provided the string represents a float or an integer)</li>\n",
    "<li><b style=\"color:red\">str()</b> - constructs a string from a wide variety of data types, including strings, integer literals, and float literals</li>\n"
   ]
  },
  {
   "cell_type": "markdown",
   "id": "bb8f0ecb-2adf-45d6-b9b8-c4e4b910367a",
   "metadata": {},
   "source": [
    "<!-- =============================== -->\n",
    "<!-- Code Snippet Section (Display) -->\n",
    "<div style=\"background-color:#FFFACD; padding:15px; border-radius:8px;\">\n",
    "<h4 style=\"text-align:center;font-family:'Comic Sans MS','Bradley Hand'; font-weight:bold;\">\n",
    "<b> Type Casting </b>\n",
    "</h4>\n",
    "<pre>\n",
    "<code>\n",
    "#integers\n",
    "x = int(1)   # x will be 1\n",
    "y = int(2.8) # y will be 2\n",
    "z = int(\"3\") # z will be 3\n",
    "\n",
    "#float\n",
    "x = float(1)     # x will be 1.0\n",
    "y = float(2.8)   # y will be 2.8\n",
    "z = float(\"3\")   # z will be 3.0\n",
    "w = float(\"4.2\") # w will be 4.2\n",
    "\n",
    "#string\n",
    "x = str(\"s1\") # x will be 's1'\n",
    "y = str(2)    # y will be '2'\n",
    "z = str(3.0)  # z will be '3.0'\n",
    "</code>\n",
    "</pre>\n",
    "</div>"
   ]
  },
  {
   "cell_type": "code",
   "execution_count": 40,
   "id": "ca081fa5-488d-4b70-b263-3fc59974ee77",
   "metadata": {},
   "outputs": [],
   "source": [
    "#integers\n",
    "x = int(1)   # x will be 1\n",
    "y = int(2.8) # y will be 2\n",
    "z = int(\"3\") # z will be 3\n",
    "\n",
    "#float\n",
    "x = float(1)     # x will be 1.0\n",
    "y = float(2.8)   # y will be 2.8\n",
    "z = float(\"3\")   # z will be 3.0\n",
    "w = float(\"4.2\") # w will be 4.2\n",
    "\n",
    "#string\n",
    "x = str(\"s1\") # x will be 's1'\n",
    "y = str(2)    # y will be '2'\n",
    "z = str(3.0)  # z will be '3.0'"
   ]
  },
  {
   "cell_type": "markdown",
   "id": "5fc6a48d-b264-4753-8383-73aa7ed755d6",
   "metadata": {},
   "source": [
    "<!-- =============================== -->\n",
    "<!-- Sub Topic -->\n",
    "<div style=\"background-color:#E6E6FA; padding:15px; border-radius:8px;\">\n",
    "<h4 style=\"text-align:center; font-family:'Comic Sans MS','Bradley Hand', cursive; font-weight:bold;\">\n",
    "Python Strings\n",
    "</h4>\n",
    "</div>\n"
   ]
  },
  {
   "cell_type": "markdown",
   "id": "36f65a13-890c-4c85-ba91-e97f741a68d6",
   "metadata": {},
   "source": [
    "Strings in python are surrounded by either single quotation marks, or double quotation marks.\n",
    "\n",
    "'hello' is the same as \"hello\".\n",
    "\n",
    "You can display a string literal with the print() function:"
   ]
  },
  {
   "cell_type": "markdown",
   "id": "2ce9b21c-9bdc-4bb8-adca-31502471f11b",
   "metadata": {},
   "source": [
    "<!-- =============================== -->\n",
    "<!-- Code Snippet Section (Display) -->\n",
    "<div style=\"background-color:#FFFACD; padding:15px; border-radius:8px;\">\n",
    "<h4 style=\"text-align:center;font-family:'Comic Sans MS','Bradley Hand'; font-weight:bold;\">\n",
    "<b> String </b>\n",
    "</h4>\n",
    "<pre>\n",
    "<code>\n",
    "print(\"Hello\")\n",
    "print('Hello')\n",
    "</code>\n",
    "</pre>\n",
    "</div>"
   ]
  },
  {
   "cell_type": "code",
   "execution_count": 41,
   "id": "0f257784-7da4-48c3-bcda-4be84b8b3649",
   "metadata": {},
   "outputs": [
    {
     "name": "stdout",
     "output_type": "stream",
     "text": [
      "Hello\n",
      "Hello\n"
     ]
    }
   ],
   "source": [
    "print(\"Hello\")\n",
    "print('Hello')"
   ]
  },
  {
   "cell_type": "markdown",
   "id": "30fcd0a3-ab1b-4a00-b218-5c58bdf2b5bb",
   "metadata": {},
   "source": [
    "There are many methods of the string we could look up to."
   ]
  },
  {
   "cell_type": "markdown",
   "id": "a57cca13-ef05-4922-ab93-345adc71e3b0",
   "metadata": {},
   "source": [
    "<!-- =============================== -->\n",
    "<!-- Sub Topic -->\n",
    "<div style=\"background-color:#E6E6FA; padding:15px; border-radius:8px;\">\n",
    "<h4 style=\"text-align:center; font-family:'Comic Sans MS','Bradley Hand', cursive; font-weight:bold;\">\n",
    "Python Operators\n",
    "</h4>\n",
    "</div>\n"
   ]
  },
  {
   "cell_type": "markdown",
   "id": "3f5d7c43-79df-4c5f-b343-e340b0116c99",
   "metadata": {},
   "source": [
    "Operators are used to perform operations on variables and values.\n",
    "\n",
    "In the example below, we use the + operator to add together two values:"
   ]
  },
  {
   "cell_type": "code",
   "execution_count": 44,
   "id": "78e8b58f-8694-4857-9fc5-0a898ac9b1b3",
   "metadata": {},
   "outputs": [
    {
     "name": "stdout",
     "output_type": "stream",
     "text": [
      "15\n"
     ]
    }
   ],
   "source": [
    "print(10 + 5)"
   ]
  },
  {
   "cell_type": "markdown",
   "id": "27487281-80ab-43f2-8b79-fd4a0b3166cf",
   "metadata": {},
   "source": [
    "Python divides the operators into the following groups:\n",
    "\n",
    "- **Arithmetic operators**\n",
    "- **Assignment operators**\n",
    "- **Comparison operators**\n",
    "- **Logical operators**\n",
    "- **Identity operators**\n",
    "- **Membership operators**\n",
    "- **Bitwise operators**\n"
   ]
  },
  {
   "cell_type": "markdown",
   "id": "a0157d2c-e04d-4b3f-a89a-b134dfa581dd",
   "metadata": {},
   "source": [
    "## Python Arithmetic Operators\n",
    "\n",
    "Arithmetic operators are used with numeric values to perform common mathematical operations:\n",
    "\n",
    "| Operator | Name           | Example |\n",
    "|----------|----------------|---------|\n",
    "| `+`      | Addition       | `x + y` |\n",
    "| `-`      | Subtraction    | `x - y` |\n",
    "| `*`      | Multiplication | `x * y` |\n",
    "| `/`      | Division       | `x / y` |\n",
    "| `%`      | Modulus        | `x % y` |\n",
    "| `**`     | Exponentiation | `x ** y` |\n",
    "| `//`     | Floor division | `x // y` |\n"
   ]
  },
  {
   "cell_type": "markdown",
   "id": "8f372490-152f-470f-ac7d-1ea9a5ce418a",
   "metadata": {},
   "source": [
    "## Python Assignment Operators\n",
    "\n",
    "Assignment operators are used to assign values to variables:\n",
    "\n",
    "| Operator | Example          | Same As             |\n",
    "|----------|------------------|---------------------|\n",
    "| `=`      | `x = 5`          | `x = 5`             |\n",
    "| `+=`     | `x += 3`         | `x = x + 3`         |\n",
    "| `-=`     | `x -= 3`         | `x = x - 3`         |\n",
    "| `*=`     | `x *= 3`         | `x = x * 3`         |\n",
    "| `/=`     | `x /= 3`         | `x = x / 3`         |\n",
    "| `%=`     | `x %= 3`         | `x = x % 3`         |\n",
    "| `//=`    | `x //= 3`        | `x = x // 3`        |\n",
    "| `**=`    | `x **= 3`        | `x = x ** 3`        |\n",
    "| `&=`     | `x &= 3`         | `x = x & 3`         |\n",
    "| `|=`     | `x |= 3`         | `x = x \\| 3`        |\n",
    "| `^=`     | `x ^= 3`         | `x = x ^ 3`         |\n",
    "| `>>=`    | `x >>= 3`        | `x = x >> 3`        |\n",
    "| `<<=`    | `x <<= 3`        | `x = x << 3`        |\n",
    "| `:=`     | `print(x := 3)`  | `x = 3` then `print(x)` |\n"
   ]
  },
  {
   "cell_type": "markdown",
   "id": "545fa82c-15c4-4bb0-96a4-dffa913fcebb",
   "metadata": {},
   "source": [
    "## Python Comparison Operators\n",
    "\n",
    "Comparison operators are used to compare two values:\n",
    "\n",
    "| Operator | Name                        | Example   |\n",
    "|:--------:|:----------------------------|:----------|\n",
    "| `==`     | Equal                       | `x == y`  |\n",
    "| `!=`     | Not equal                   | `x != y`  |\n",
    "| `>`      | Greater than                | `x > y`   |\n",
    "| `<`      | Less than                   | `x < y`   |\n",
    "| `>=`     | Greater than or equal to    | `x >= y`  |\n",
    "| `<=`     | Less than or equal to       | `x <= y`  |\n"
   ]
  },
  {
   "cell_type": "markdown",
   "id": "091fc1cd-91e2-44da-86e9-a2c911d5f065",
   "metadata": {},
   "source": [
    "## Python Logical Operators\n",
    "\n",
    "Logical operators are used to combine conditional statements:\n",
    "\n",
    "| Operator | Description                                | Example                      |\n",
    "|:--------:|:-------------------------------------------|:-----------------------------|\n",
    "| `and`    | Returns True if both statements are true  | `x < 5 and x < 10`           |\n",
    "| `or`     | Returns True if one of the statements is true | `x < 5 or x < 4`         |\n",
    "| `not`    | Reverse the result, returns False if the result is true | `not(x < 5 and x < 10)` |\n"
   ]
  },
  {
   "cell_type": "markdown",
   "id": "8d632742-73af-4670-9489-eb41427036ac",
   "metadata": {},
   "source": [
    "## Python Identity Operators\n",
    "\n",
    "Identity operators are used to compare the objects, not if they are equal, but if they are actually the same object with the same memory location:\n",
    "\n",
    "| Operator | Description                                           | Example       |\n",
    "|:--------:|:------------------------------------------------------|:--------------|\n",
    "| `is`     | Returns True if both variables are the same object   | `x is y`      |\n",
    "| `is not` | Returns True if both variables are not the same|  `x is not y`  |\n"
   ]
  },
  {
   "cell_type": "markdown",
   "id": "4e64539e-2619-4c26-9f96-466d7d12026a",
   "metadata": {},
   "source": [
    "## Python Bitwise Operators\n",
    "\n",
    "Bitwise operators are used to compare (binary) numbers:\n",
    "\n",
    "| Operator | Name                 | Description                                                                    | Example   |\n",
    "|:--------:|:----------------------|:-------------------------------------------------------------------------------|:----------|\n",
    "| `&`      | AND                  | Sets each bit to 1 if both bits are 1                                          | `x & y`   |\n",
    "| `\\|`     | OR                   | Sets each bit to 1 if one of two bits is 1                                     | `x \\| y`  |\n",
    "| `^`      | XOR                  | Sets each bit to 1 if only one of two bits is 1                               | `x ^ y`   |\n",
    "| `~`      | NOT                  | Inverts all the bits                                                           | `~x`      |\n",
    "| `<<`     | Zero fill left shift | Shift left by pushing zeros in from the right, letting leftmost bits fall off | `x << 2`  |\n",
    "| `>>`     | Signed right shift   | Shift right by pushing copies of the leftmost bit in from the left, letting rightmost bits fall off | `x >> 2` |\n"
   ]
  },
  {
   "cell_type": "markdown",
   "id": "1b396985-3930-4cdc-9cba-e7f4fd6229e5",
   "metadata": {},
   "source": [
    "## Python Operator Precedence\n",
    "\n",
    "The precedence order is described below, starting with the **highest precedence at the top**:\n",
    "\n",
    "| Operator | Description                                                      |\n",
    "|:--------:|:-----------------------------------------------------------------|\n",
    "| `()`     | Parentheses                                                      |\n",
    "| `**`     | Exponentiation                                                   |\n",
    "| `+x`, `-x`, `~x` | Unary plus, unary minus, and bitwise NOT                |\n",
    "| `*`, `/`, `//`, `%` | Multiplication, division, floor division, and modulus |\n",
    "| `+`, `-` | Addition and subtraction                                         |\n",
    "| `<<`, `>>` | Bitwise left and right shifts                                  |\n",
    "| `&`      | Bitwise AND                                                      |\n",
    "| `^`      | Bitwise XOR                                                      |\n",
    "| `\\|`     | Bitwise OR                                                       |\n",
    "| `==`, `!=`, `>`, `>=`, `<`, `<=`, `is`, `is not`, `in`, `not in` | Comparisons, identity, and membership operators |\n",
    "| `not`    | Logical NOT                                                      |\n",
    "| `and`    | Logical AND                                                      |\n",
    "| `or`     | Logical OR                                                       |\n",
    "\n",
    "> If two operators have the same precedence, the expression is evaluated **from left to right**.\n"
   ]
  },
  {
   "cell_type": "markdown",
   "id": "762805fe-c547-4fe5-b946-5f9180eddd28",
   "metadata": {},
   "source": [
    "<!-- =============================== -->\n",
    "<!-- Sub Topic -->\n",
    "<div style=\"background-color:#E6E6FA; padding:15px; border-radius:8px;\">\n",
    "<h4 style=\"text-align:center; font-family:'Comic Sans MS','Bradley Hand', cursive; font-weight:bold;\">\n",
    "If statement\n",
    "</h4>\n",
    "</div>\n"
   ]
  },
  {
   "cell_type": "markdown",
   "id": "b0256f3d-45af-4470-b542-b72dd97fb807",
   "metadata": {},
   "source": [
    "Python supports the usual logical conditions from mathematics:\n",
    "\n",
    "Equals: a == b<br>\n",
    "Not Equals: a != b<br>\n",
    "Less than: a < b<br>\n",
    "Less than or equal to: a <= b<br>\n",
    "Greater than: a > b<br>\n",
    "Greater than or equal to: a >= b<br>\n",
    "These conditions can be used in several ways, most commonly in \"if statements\" and loops.<br>\n",
    "\n",
    "An \"if statement\" is written by using the if keyword."
   ]
  },
  {
   "cell_type": "code",
   "execution_count": 51,
   "id": "7ca3b208-9635-441a-97cb-576414240de7",
   "metadata": {},
   "outputs": [
    {
     "name": "stdout",
     "output_type": "stream",
     "text": [
      "x is greater than 5\n"
     ]
    }
   ],
   "source": [
    "x = 10\n",
    "\n",
    "if x > 5:\n",
    "    print(\"x is greater than 5\")\n"
   ]
  },
  {
   "cell_type": "code",
   "execution_count": 52,
   "id": "ac842366-8db3-4b8a-9bd9-b8821d0dc1fb",
   "metadata": {},
   "outputs": [
    {
     "name": "stdout",
     "output_type": "stream",
     "text": [
      "x is not greater than 5\n"
     ]
    }
   ],
   "source": [
    "x = 3\n",
    "\n",
    "if x > 5:\n",
    "    print(\"x is greater than 5\")\n",
    "else:\n",
    "    print(\"x is not greater than 5\")\n"
   ]
  },
  {
   "cell_type": "code",
   "execution_count": 53,
   "id": "cdbf880e-5a13-457f-b8c6-ac55ebffcc29",
   "metadata": {},
   "outputs": [
    {
     "name": "stdout",
     "output_type": "stream",
     "text": [
      "x is equal to 5\n"
     ]
    }
   ],
   "source": [
    "x = 5\n",
    "\n",
    "if x > 5:\n",
    "    print(\"x is greater than 5\")\n",
    "elif x == 5:\n",
    "    print(\"x is equal to 5\")\n",
    "else:\n",
    "    print(\"x is less than 5\")\n"
   ]
  },
  {
   "cell_type": "code",
   "execution_count": 54,
   "id": "8e59740b-6dfb-451a-93a9-742547ff9e44",
   "metadata": {},
   "outputs": [
    {
     "name": "stdout",
     "output_type": "stream",
     "text": [
      "x is greater than 5\n",
      "x is also greater than 7\n"
     ]
    }
   ],
   "source": [
    "x = 8\n",
    "\n",
    "if x > 5:\n",
    "    print(\"x is greater than 5\")\n",
    "    if x > 7:\n",
    "        print(\"x is also greater than 7\")\n"
   ]
  },
  {
   "cell_type": "markdown",
   "id": "1cfac7ee-752a-4cba-be6c-6c9b1f9b6f11",
   "metadata": {},
   "source": [
    "<!-- =============================== -->\n",
    "<!-- Sub Topic -->\n",
    "<div style=\"background-color:#E6E6FA; padding:15px; border-radius:8px;\">\n",
    "<h4 style=\"text-align:center; font-family:'Comic Sans MS','Bradley Hand', cursive; font-weight:bold;\">\n",
    "Python Loops\n",
    "</h4>\n",
    "</div>\n"
   ]
  },
  {
   "cell_type": "markdown",
   "id": "6e914f50-b2df-426b-9160-b680cb3e7eb7",
   "metadata": {},
   "source": [
    "\n",
    "Python has two **primitive loop commands**:\n",
    "\n",
    "- `while` loops\n",
    "- `for` loops\n",
    "\n",
    "---"
   ]
  },
  {
   "cell_type": "code",
   "execution_count": 55,
   "id": "34fbab73-a472-4c56-90b1-c31860fba04b",
   "metadata": {},
   "outputs": [
    {
     "name": "stdout",
     "output_type": "stream",
     "text": [
      "1\n",
      "2\n",
      "3\n",
      "4\n",
      "5\n"
     ]
    }
   ],
   "source": [
    "i = 1\n",
    "\n",
    "while i <= 5:\n",
    "    print(i)\n",
    "    i += 1  # Increment to avoid infinite loop\n"
   ]
  },
  {
   "cell_type": "code",
   "execution_count": 56,
   "id": "eb6eeab7-c5e1-408a-b09f-c0c9bb139ef3",
   "metadata": {},
   "outputs": [
    {
     "name": "stdout",
     "output_type": "stream",
     "text": [
      "1\n",
      "2\n",
      "3\n",
      "Loop finished\n"
     ]
    }
   ],
   "source": [
    "i = 1\n",
    "\n",
    "while i <= 3:\n",
    "    print(i)\n",
    "    i += 1\n",
    "else:\n",
    "    print(\"Loop finished\")\n"
   ]
  },
  {
   "cell_type": "code",
   "execution_count": 57,
   "id": "57216123-d159-4220-83aa-d9217ecf5f49",
   "metadata": {},
   "outputs": [
    {
     "name": "stdout",
     "output_type": "stream",
     "text": [
      "1\n",
      "2\n",
      "3\n",
      "4\n",
      "5\n"
     ]
    }
   ],
   "source": [
    "for i in range(1, 6):\n",
    "    print(i)\n"
   ]
  },
  {
   "cell_type": "code",
   "execution_count": 58,
   "id": "daacd75a-8654-4d90-9ed4-7079e2333d82",
   "metadata": {},
   "outputs": [
    {
     "name": "stdout",
     "output_type": "stream",
     "text": [
      "apple\n",
      "banana\n",
      "mango\n"
     ]
    }
   ],
   "source": [
    "fruits = [\"apple\", \"banana\", \"mango\"]\n",
    "\n",
    "for fruit in fruits:\n",
    "    print(fruit)\n"
   ]
  },
  {
   "cell_type": "code",
   "execution_count": 59,
   "id": "b232e760-a88e-4e17-9413-2c140b4b062f",
   "metadata": {},
   "outputs": [
    {
     "name": "stdout",
     "output_type": "stream",
     "text": [
      "1\n",
      "2\n",
      "3\n",
      "4\n"
     ]
    }
   ],
   "source": [
    "for i in range(1, 10):\n",
    "    if i == 5:\n",
    "        break\n",
    "    print(i)\n"
   ]
  },
  {
   "cell_type": "code",
   "execution_count": 60,
   "id": "e396ae08-d1a6-41ac-88c7-d883b30a95e5",
   "metadata": {},
   "outputs": [],
   "source": [
    "for i in range(3):\n",
    "    pass  # Placeholder for future code\n"
   ]
  },
  {
   "cell_type": "code",
   "execution_count": 61,
   "id": "3d51a75f-8c1c-4a31-99a5-e30e3db78536",
   "metadata": {},
   "outputs": [
    {
     "name": "stdout",
     "output_type": "stream",
     "text": [
      "0\n",
      "1\n",
      "2\n",
      "Loop completed without break\n"
     ]
    }
   ],
   "source": [
    "for i in range(3):\n",
    "    print(i)\n",
    "else:\n",
    "    print(\"Loop completed without break\")\n"
   ]
  },
  {
   "cell_type": "markdown",
   "id": "1a95407e-6864-42db-a055-76903d5a2867",
   "metadata": {},
   "source": [
    "## Summary Table: `if-else` and Loops in Python\n",
    "\n",
    "| Concept          | Usage Example                                         |\n",
    "|------------------|--------------------------------------------------------|\n",
    "| `if`             | Check a single condition                              |\n",
    "| `elif`           | Check multiple conditions                             |\n",
    "| `else`           | Execute when all conditions fail                      |\n",
    "| `while`          | Repeat while a condition is true                      |\n",
    "| `for`            | Iterate over sequences                                |\n",
    "| `break`          | Exit loop immediately                                 |\n",
    "| `continue`       | Skip to next iteration                                |\n",
    "| `pass`           | Do nothing (placeholder)                              |\n",
    "| `else` with loops | Execute after loop ends unless `break` is used       |\n"
   ]
  },
  {
   "cell_type": "markdown",
   "id": "e161d2b1-e621-4e92-9d4f-a70ab8190731",
   "metadata": {},
   "source": [
    "## Breaking out of loops"
   ]
  },
  {
   "cell_type": "markdown",
   "id": "e45f891e-e272-4c49-9758-2e84dcf9bd51",
   "metadata": {},
   "source": [
    "You can control the flow within a loop using break and continue:\n",
    "\n",
    "<li>break: Exits the loop completely.</li>\n",
    "<li>continue: Skips the rest of the loop body for the current iteration and moves to the next.</li>"
   ]
  },
  {
   "cell_type": "code",
   "execution_count": 1,
   "id": "3311c6d4-97fe-4943-820b-fbc077800b67",
   "metadata": {},
   "outputs": [
    {
     "name": "stdout",
     "output_type": "stream",
     "text": [
      "0\n",
      "1\n",
      "2\n",
      "3\n",
      "4\n"
     ]
    }
   ],
   "source": [
    "# Breaking out of a loop\n",
    "for num in range(10):\n",
    "    if num == 5:\n",
    "        break  # Exit the loop when num is 5\n",
    "    print(num)"
   ]
  },
  {
   "cell_type": "code",
   "execution_count": 2,
   "id": "779a3602-3937-4547-9026-fb42c51da27c",
   "metadata": {},
   "outputs": [
    {
     "name": "stdout",
     "output_type": "stream",
     "text": [
      "1\n",
      "3\n",
      "5\n",
      "7\n",
      "9\n"
     ]
    }
   ],
   "source": [
    " #Skipping an iteration\n",
    "for num in range(10):\n",
    "    if num % 2 == 0:\n",
    "        continue  # Skip even numbers\n",
    "    print(num)  # This will only print odd numbers"
   ]
  },
  {
   "cell_type": "markdown",
   "id": "f4725556-b586-4690-92b8-f0f0d1d49bb4",
   "metadata": {},
   "source": [
    "<!-- =============================== -->\n",
    "<!-- End -->\n",
    "<div style=\"background-color:#FFF0F5; padding:15px; border-radius:8px;\">\n",
    "<h1 style=\"text-align:center; font-family:'Comic Sans MS','Bradley Hand', cursive; font-weight:bold;\">\n",
    "End\n",
    "</h1>\n",
    "</div>"
   ]
  },
  {
   "attachments": {
    "f6b10d87-cc5e-4521-9924-d68defeb1fc0.jpg": {
     "image/jpeg": "[encoded data removed]"
    }
   },
   "cell_type": "markdown",
   "id": "a79f0f2f-2aad-4861-b45e-f36404b2a6ff",
   "metadata": {},
   "source": [
    "![WhatsApp Image 2025-07-08 at 14.29.53_009a89b6.jpg](attachment:f6b10d87-cc5e-4521-9924-d68defeb1fc0.jpg)"
   ]
  },
  {
   "cell_type": "markdown",
   "id": "09c08533-482e-454c-b896-c70af1d8ca69",
   "metadata": {},
   "source": [
    "<!-- =============================== -->\n",
    "<!-- Interview Questions -->\n",
    "<div style=\"background-color:#F0F8FF; padding:15px; border-radius:8px;\">\n",
    "<h1 style=\"text-align:center; font-family:'Comic Sans MS','Bradley Hand', cursive; font-weight:bold;\">\n",
    "Interview Questions\n",
    "</h1>\n",
    "<ul style=\"font-family:'Segoe UI', sans-serif; font-size:16px; line-height:1.6;\">\n",
    "  <li>What is the difference between <code>is</code> and <code>==</code> in Python?</li>\n",
    "  <li>What are mutable and immutable data types in Python?</li>\n",
    "  <li>Write a Python function to check if a number is prime.</li>\n",
    "  <li>What is the difference between <code>for</code> and <code>while</code> loops?</li>\n",
    "  <li>Explain how <code>break</code>, <code>continue</code>, and <code>pass</code> work in loops.</li>\n",
    "  <li>How does indentation affect code execution in Python?</li>\n",
    "  <li>What are truthy and falsy values in Python? Give examples.</li>\n",
    "  <li>Write a loop to print even numbers from 1 to 20, skipping multiples of 4.</li>\n",
    "  <li>What happens if a list is passed to a function and modified inside it?</li>\n",
    "  <li>How would you handle invalid user input when using <code>input()</code> in Python?</li>\n",
    "</ul>\n",
    "</div>\n"
   ]
  },
  {
   "cell_type": "markdown",
   "id": "b2598bab-41e5-417d-8d5d-75afabe33f8c",
   "metadata": {},
   "source": [
    "<!-- =============================== -->\n",
    "<!-- Sample Practice Questions -->\n",
    "<div style=\"background-color:#FFFFE0; padding:15px; border-radius:8px;\">\n",
    "<h1 style=\"text-align:center; font-family:'Comic Sans MS','Bradley Hand', cursive; font-weight:bold;\">\n",
    "Sample Practice Questions\n",
    "</h1>\n",
    "<ul style=\"font-family:'Segoe UI', sans-serif; font-size:16px; line-height:1.6;\">\n",
    "  <li>Write a Python program to check whether a number is even or odd.</li>\n",
    "  <li>Write a program that takes user input and prints whether the number is positive, negative, or zero.</li>\n",
    "  <li>Write a loop that prints numbers from 1 to 100, but skips all multiples of 5.</li>\n",
    "  <li>Write a function to return the factorial of a number using a <code>while</code> loop.</li>\n",
    "  <li>Create a list of numbers from 1 to 10 and print only the even numbers using a <code>for</code> loop.</li>\n",
    "  <li>Write a program to check if a given string is a palindrome.</li>\n",
    "  <li>Take a number input and print \"Fizz\" if divisible by 3, \"Buzz\" if divisible by 5, and \"FizzBuzz\" if divisible by both.</li>\n",
    "  <li>Use <code>try/except</code> to handle division by zero error in a program that divides two numbers.</li>\n",
    "  <li>Write a function that takes a list of numbers and returns the sum of all even numbers.</li>\n",
    "  <li>Write a program that keeps asking the user to enter a number until they enter zero, then prints the sum of all numbers entered.</li>\n",
    "</ul>\n",
    "</div>\n"
   ]
  },
  {
   "cell_type": "markdown",
   "id": "0c6d7b01-32d0-4a2b-ad40-f85fb71ad082",
   "metadata": {},
   "source": [
    "<!-- =============================== -->\n",
    "<!-- Solutions -->\n",
    "<div style=\"background-color:#E0FFFF; padding:15px; border-radius:8px;\">\n",
    "<h1 style=\"text-align:center; font-family:'Comic Sans MS','Bradley Hand', cursive; font-weight:bold;\">\n",
    "Solutions\n",
    "</h1>\n",
    "<ol style=\"font-family:'Segoe UI', sans-serif; font-size:16px; line-height:1.6;\">\n",
    "\n",
    "  <li>\n",
    "    <strong>Even or Odd:</strong><br>\n",
    "    <pre><code>num = int(input(\"Enter a number: \"))\n",
    "if num % 2 == 0:\n",
    "    print(\"Even\")\n",
    "else:\n",
    "    print(\"Odd\")</code></pre>\n",
    "  </li>\n",
    "\n",
    "  <li>\n",
    "    <strong>Positive, Negative, or Zero:</strong><br>\n",
    "    <pre><code>num = float(input(\"Enter a number: \"))\n",
    "if num > 0:\n",
    "    print(\"Positive\")\n",
    "elif num < 0:\n",
    "    print(\"Negative\")\n",
    "else:\n",
    "    print(\"Zero\")</code></pre>\n",
    "  </li>\n",
    "\n",
    "  <li>\n",
    "    <strong>Skip multiples of 5:</strong><br>\n",
    "    <pre><code>for i in range(1, 101):\n",
    "    if i % 5 == 0:\n",
    "        continue\n",
    "    print(i)</code></pre>\n",
    "  </li>\n",
    "\n",
    "  <li>\n",
    "    <strong>Factorial using while loop:</strong><br>\n",
    "    <pre><code>def factorial(n):\n",
    "    result = 1\n",
    "    while n > 1:\n",
    "        result *= n\n",
    "        n -= 1\n",
    "    return result\n",
    "\n",
    "print(factorial(5))</code></pre>\n",
    "  </li>\n",
    "\n",
    "  <li>\n",
    "    <strong>Print even numbers from list:</strong><br>\n",
    "    <pre><code>nums = list(range(1, 11))\n",
    "for num in nums:\n",
    "    if num % 2 == 0:\n",
    "        print(num)</code></pre>\n",
    "  </li>\n",
    "\n",
    "  <li>\n",
    "    <strong>Palindrome checker:</strong><br>\n",
    "    <pre><code>text = input(\"Enter a string: \")\n",
    "if text == text[::-1]:\n",
    "    print(\"Palindrome\")\n",
    "else:\n",
    "    print(\"Not a palindrome\")</code></pre>\n",
    "  </li>\n",
    "\n",
    "  <li>\n",
    "    <strong>FizzBuzz:</strong><br>\n",
    "    <pre><code>num = int(input(\"Enter a number: \"))\n",
    "if num % 3 == 0 and num % 5 == 0:\n",
    "    print(\"FizzBuzz\")\n",
    "elif num % 3 == 0:\n",
    "    print(\"Fizz\")\n",
    "elif num % 5 == 0:\n",
    "    print(\"Buzz\")\n",
    "else:\n",
    "    print(num)</code></pre>\n",
    "  </li>\n",
    "\n",
    "<li>\n",
    "    <strong>Handle division by zero:</strong><br>\n",
    "    <pre><code>try:\n",
    "    a = int(input(\"Enter numerator: \"))\n",
    "    b = int(input(\"Enter denominator: \"))\n",
    "    print(\"Result:\", a / b)\n",
    "except ZeroDivisionError:\n",
    "    print(\"Cannot divide by zero!\")</code></pre>\n",
    "  </li>\n",
    "\n",
    "  <li>\n",
    "    <strong>Sum of even numbers in list:</strong><br>\n",
    "    <pre><code>def sum_even(numbers):\n",
    "    return sum(num for num in numbers if num % 2 == 0)\n",
    "\n",
    "print(sum_even([1, 2, 3, 4, 5, 6]))</code></pre>\n",
    "  </li>\n",
    "\n",
    "  <li>\n",
    "    <strong>Keep taking input until 0, then print sum:</strong><br>\n",
    "    <pre><code>total = 0\n",
    "while True:\n",
    "    num = int(input(\"Enter number (0 to stop): \"))\n",
    "    if num == 0:\n",
    "        break\n",
    "    total += num\n",
    "print(\"Total sum:\", total)</code></pre>\n",
    "  </li>\n",
    "\n",
    "</ol>\n",
    "</div>\n"
   ]
  }
 ],
 "metadata": {
  "kernelspec": {
   "display_name": "Python [conda env:base] *",
   "language": "python",
   "name": "conda-base-py"
  },
  "language_info": {
   "codemirror_mode": {
    "name": "ipython",
    "version": 3
   },
   "file_extension": ".py",
   "mimetype": "text/x-python",
   "name": "python",
   "nbconvert_exporter": "python",
   "pygments_lexer": "ipython3",
   "version": "3.13.5"
  }
 },
 "nbformat": 4,
 "nbformat_minor": 5
}
