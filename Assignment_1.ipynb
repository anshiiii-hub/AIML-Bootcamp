{
 "cells": [
  {
   "cell_type": "markdown",
   "id": "06d548b8-0d8e-44aa-8042-2fa3b8c5687b",
   "metadata": {},
   "source": [
    "<img src=\"WhatsApp Image 2025-07-08 at 19.03.29_00464e9f.jpg\" alt=\"Banner\" width=\"1500\">"
   ]
  },
  {
   "cell_type": "markdown",
   "id": "d2147d84-a228-4112-9dbc-6a161577110d",
   "metadata": {},
   "source": [
    "<!-- =============================== -->\n",
    "<!-- Topic -->\n",
    "<div style=\"background-color:#E0FFFF; padding:15px; border-radius:8px;\">\n",
    "<h1 style=\"text-align:center; font-family:'Comic Sans MS','Bradley Hand', cursive; font-weight:bold;\">\n",
    "Assignment 1\n",
    "</h1>\n",
    "\n",
    "</div>"
   ]
  },
  {
   "cell_type": "markdown",
   "id": "8e273b3d-6ae7-4a18-a012-0b9dc22739f9",
   "metadata": {},
   "source": [
    "<!-- =============================== -->\n",
    "<!-- 3️⃣ Code Snippet Section (Display) -->\n",
    "<div style=\"background-color:#FFFACD; padding:15px; border-radius:8px;\">\n",
    "<h1 font-family:'Comic Sans MS','Bradley Hand'; font-weight:bold;\">\n",
    "<b> 1. Voting creteria</b>\n",
    "</h1>\n",
    "\n",
    "<pre>\n",
    "<code>\n",
    "user_age=int(input(\"Enter your age: \"))\n",
    "if user_age >= 18:\n",
    "    print(\"You are eligible to vote.\")\n",
    "else:\n",
    "    print(\"You are not eligible to vote.\")\n",
    "</code>\n",
    "</pre>\n",
    "</div>\n"
   ]
  },
  {
   "cell_type": "code",
   "execution_count": 30,
   "id": "6b898b8f-feb6-404d-90d6-5a6bcf1507ce",
   "metadata": {},
   "outputs": [
    {
     "name": "stdin",
     "output_type": "stream",
     "text": [
      "Enter your age:  77\n"
     ]
    },
    {
     "name": "stdout",
     "output_type": "stream",
     "text": [
      "You are eligible to vote.\n"
     ]
    }
   ],
   "source": [
    "#voting creteria\n",
    "user_age=int(input(\"Enter your age: \"))\n",
    "if user_age >= 18:\n",
    "    print(\"You are eligible to vote.\")\n",
    "else:\n",
    "    print(\"You are not eligible to vote.\")"
   ]
  },
  {
   "cell_type": "markdown",
   "id": "0152bebe-10b0-4d48-83b2-b8272b700e2a",
   "metadata": {},
   "source": [
    "<!-- =============================== -->\n",
    "<!-- 3️⃣ Code Snippet Section (Display) -->\n",
    "<div style=\"background-color:#FFFACD; padding:15px; border-radius:8px;\">\n",
    "<h1 font-family:'Comic Sans MS','Bradley Hand'; font-weight:bold;\">\n",
    "<b> 2. Simple Calculator</b>\n",
    "</h1>\n",
    "\n",
    "\n",
    "<pre>\n",
    "<code>\n",
    "\n",
    "num1 = float(input(\"Enter first number: \"))\n",
    "num2 = float(input(\"Enter second number: \"))\n",
    "operation = input(\"Enter operation (+, -, *, /): \")\n",
    "if operation == '+':\n",
    "    result = num1 + num2\n",
    "elif operation == '-':\n",
    "    result = num1 - num2\n",
    "elif operation == '*':\n",
    "    result = num1 * num2\n",
    "elif operation == '/':\n",
    "    result = num1 / num2\n",
    "else:\n",
    "    result = \"Invalid operation\"\n",
    "print(\"Result:\", result)\n",
    "</code>\n",
    "</pre>\n",
    "</div>\n"
   ]
  },
  {
   "cell_type": "code",
   "execution_count": 2,
   "id": "d8b77adc-51a5-4aed-a4f0-79d6e01763c0",
   "metadata": {},
   "outputs": [
    {
     "name": "stdin",
     "output_type": "stream",
     "text": [
      "Enter first number:  5\n",
      "Enter second number:  7\n",
      "Enter operation (+, -, *, /):  *\n"
     ]
    },
    {
     "name": "stdout",
     "output_type": "stream",
     "text": [
      "Result: 35.0\n"
     ]
    }
   ],
   "source": [
    "#simple calculator\n",
    "num1 = float(input(\"Enter first number: \"))\n",
    "num2 = float(input(\"Enter second number: \"))\n",
    "operation = input(\"Enter operation (+, -, *, /): \")\n",
    "if operation == '+':\n",
    "    result = num1 + num2\n",
    "elif operation == '-':\n",
    "    result = num1 - num2\n",
    "elif operation == '*':\n",
    "    result = num1 * num2\n",
    "elif operation == '/':\n",
    "    result = num1 / num2\n",
    "else:\n",
    "    result = \"Invalid operation\"\n",
    "print(\"Result:\", result)"
   ]
  },
  {
   "cell_type": "markdown",
   "id": "19354a64-355c-4055-b18f-2bb07c8b046b",
   "metadata": {},
   "source": [
    "<!-- =============================== -->\n",
    "<!-- 3️⃣ Code Snippet Section (Display) -->\n",
    "<div style=\"background-color:#FFFACD; padding:15px; border-radius:8px;\">\n",
    "<h1 font-family:'Comic Sans MS','Bradley Hand'; font-weight:bold;\">\n",
    "<b> 3. Find the Maximum and Minimum number of the list</b>\n",
    "</h1>\n",
    "<pre>\n",
    "<code>\n",
    "\n",
    "numbers = [int(x) for x in input(\"Enter numbers separated by space: \").split()]\n",
    "if numbers:\n",
    "    max_num = max(numbers)\n",
    "    min_num = min(numbers)\n",
    "    print(\"Maximum number:\", max_num)\n",
    "    print(\"Minimum number:\", min_num)\n",
    "else:\n",
    "    print(\"No numbers entered.\")   \n",
    "</code>\n",
    "</pre>\n",
    "</div>"
   ]
  },
  {
   "cell_type": "code",
   "execution_count": 3,
   "id": "54a4e13c-1965-4d78-baf5-d45e43c698fc",
   "metadata": {},
   "outputs": [
    {
     "name": "stdin",
     "output_type": "stream",
     "text": [
      "Enter numbers separated by space:  2 3 55 6 77 11 88 99\n"
     ]
    },
    {
     "name": "stdout",
     "output_type": "stream",
     "text": [
      "Maximum number: 99\n",
      "Minimum number: 2\n"
     ]
    }
   ],
   "source": [
    "#find the maximum and minimum number of the list\n",
    "numbers = [int(x) for x in input(\"Enter numbers separated by space: \").split()]\n",
    "if numbers:\n",
    "    max_num = max(numbers)\n",
    "    min_num = min(numbers)\n",
    "    print(\"Maximum number:\", max_num)\n",
    "    print(\"Minimum number:\", min_num)\n",
    "else:\n",
    "    print(\"No numbers entered.\")    "
   ]
  },
  {
   "cell_type": "markdown",
   "id": "d8660798-e91b-41ce-80b1-3fd6280aa6c8",
   "metadata": {},
   "source": [
    "<!-- =============================== -->\n",
    "<!-- 3️⃣ Code Snippet Section (Display) -->\n",
    "<div style=\"background-color:#FFFACD; padding:15px; border-radius:8px;\">\n",
    "<h1 font-family:'Comic Sans MS','Bradley Hand'; font-weight:bold;\">\n",
    "<b>4.Check if a Number is Prime or not</b>\n",
    "</h1>\n",
    "\n",
    "<pre>\n",
    "<code>\n",
    "def is_prime(n):\n",
    "    if n <= 1:\n",
    "        return False\n",
    "    for i in range(2, int(n**0.5) + 1):\n",
    "        if n % i == 0:\n",
    "            return False\n",
    "    return True\n",
    "number = int(input(\"Enter a number: \"))\n",
    "if is_prime(number):\n",
    "    print(f\"{number} is a prime number.\")\n",
    "else:\n",
    "    print(f\"{number} is not a prime number.\")  \n",
    "</code>\n",
    "</pre>\n",
    "</div>"
   ]
  },
  {
   "cell_type": "code",
   "execution_count": 28,
   "id": "23ff50f8-c4e9-4017-9346-7d67d15f02f9",
   "metadata": {},
   "outputs": [
    {
     "name": "stdin",
     "output_type": "stream",
     "text": [
      "Enter a number:  55\n"
     ]
    },
    {
     "name": "stdout",
     "output_type": "stream",
     "text": [
      "55 is not a prime number.\n"
     ]
    }
   ],
   "source": [
    "#check if a number is prime or not\n",
    "def is_prime(n):\n",
    "    if n <= 1:\n",
    "        return False\n",
    "    for i in range(2, int(n**0.5) + 1):\n",
    "        if n % i == 0:\n",
    "            return False\n",
    "    return True\n",
    "number = int(input(\"Enter a number: \"))\n",
    "if is_prime(number):\n",
    "    print(f\"{number} is a prime number.\")\n",
    "else:\n",
    "    print(f\"{number} is not a prime number.\")   "
   ]
  },
  {
   "cell_type": "markdown",
   "id": "9a01babe-20a3-4a75-a692-74fa609a6a26",
   "metadata": {},
   "source": [
    "<!-- =============================== -->\n",
    "<!-- 3️⃣ Code Snippet Section (Display) -->\n",
    "<div style=\"background-color:#FFFACD; padding:15px; border-radius:8px;\">\n",
    "<h1 ;font-family:'Comic Sans MS','Bradley Hand'; font-weight:bold;\">\n",
    "<b> 5. Factorial of a Number</b>\n",
    "</h1>\n",
    "\n",
    "<pre>\n",
    "<code>\n",
    "def factorial(n):\n",
    "    if n < 0:\n",
    "        return \"Factorial is not defined for negative numbers.\"\n",
    "    elif n == 0 or n == 1:\n",
    "        return 1\n",
    "    else:\n",
    "        result = 1\n",
    "        for i in range(2, n + 1):\n",
    "            result *= i\n",
    "        return result\n",
    "number = int(input(\"Enter a number: \"))\n",
    "result = factorial(number)\n",
    "print(f\"The factorial of {number} is {result}.\")\n",
    "</code>\n",
    "</pre>\n",
    "</div>"
   ]
  },
  {
   "cell_type": "code",
   "execution_count": 5,
   "id": "48008750-d15e-4463-8154-1a0c49395e6a",
   "metadata": {},
   "outputs": [
    {
     "name": "stdin",
     "output_type": "stream",
     "text": [
      "Enter a number:  10\n"
     ]
    },
    {
     "name": "stdout",
     "output_type": "stream",
     "text": [
      "The factorial of 10 is 3628800.\n"
     ]
    }
   ],
   "source": [
    "#write a function to find the factorial of a number\n",
    "def factorial(n):\n",
    "    if n < 0:\n",
    "        return \"Factorial is not defined for negative numbers.\"\n",
    "    elif n == 0 or n == 1:\n",
    "        return 1\n",
    "    else:\n",
    "        result = 1\n",
    "        for i in range(2, n + 1):\n",
    "            result *= i\n",
    "        return result\n",
    "number = int(input(\"Enter a number: \"))\n",
    "result = factorial(number)\n",
    "print(f\"The factorial of {number} is {result}.\")    \n"
   ]
  },
  {
   "cell_type": "markdown",
   "id": "7c84001f-ad39-4806-ba48-cf92e363f097",
   "metadata": {},
   "source": [
    "<!-- =============================== -->\n",
    "<!-- 3️⃣ Code Snippet Section (Display) -->\n",
    "<div style=\"background-color:#FFFACD; padding:15px; border-radius:8px;\">\n",
    "<h1 font-family:'Comic Sans MS','Bradley Hand'; font-weight:bold;\">\n",
    "<b> 6.Febonacci series</b>\n",
    "</h1>\n",
    "\n",
    "\n",
    "<pre>\n",
    "<code>\n",
    "def fibonacci(n):\n",
    "    fib_series = []\n",
    "    a, b = 0, 1\n",
    "    for _ in range(n):\n",
    "        fib_series.append(a)\n",
    "        a, b = b, a + b\n",
    "    return fib_series\n",
    "terms = int(input(\"Enter the number of terms: \"))   \n",
    "if terms <= 0:\n",
    "    print(\"Please enter a positive integer.\")\n",
    "else:\n",
    "    result = fibonacci(terms)\n",
    "    print(\"Fibonacci series:\")\n",
    "    print(result)   \n",
    "</code>\n",
    "</pre>\n",
    "</div>"
   ]
  },
  {
   "cell_type": "code",
   "execution_count": 6,
   "id": "031a1ed8-f477-48b6-ac75-d0a74698b108",
   "metadata": {},
   "outputs": [
    {
     "name": "stdin",
     "output_type": "stream",
     "text": [
      "Enter the number of terms:  5\n"
     ]
    },
    {
     "name": "stdout",
     "output_type": "stream",
     "text": [
      "Fibonacci series:\n",
      "[0, 1, 1, 2, 3]\n"
     ]
    }
   ],
   "source": [
    "#generate febonacci series\n",
    "def fibonacci(n):\n",
    "    fib_series = []\n",
    "    a, b = 0, 1\n",
    "    for _ in range(n):\n",
    "        fib_series.append(a)\n",
    "        a, b = b, a + b\n",
    "    return fib_series\n",
    "terms = int(input(\"Enter the number of terms: \"))   \n",
    "if terms <= 0:\n",
    "    print(\"Please enter a positive integer.\")\n",
    "else:\n",
    "    result = fibonacci(terms)\n",
    "    print(\"Fibonacci series:\")\n",
    "    print(result)   \n"
   ]
  },
  {
   "cell_type": "markdown",
   "id": "260cc9c8-b74e-4880-beee-fa9f3261240d",
   "metadata": {},
   "source": [
    "<!-- =============================== -->\n",
    "<!-- 3️⃣ Code Snippet Section (Display) -->\n",
    "<div style=\"background-color:#FFFACD; padding:15px; border-radius:8px;\">\n",
    "<h1 font-family:'Comic Sans MS','Bradley Hand'; font-weight:bold;\">\n",
    "<b> 7. Function to Find some of All digits of a Number</b>\n",
    "</h1>\n",
    "\n",
    "<pre>\n",
    "<code>\n",
    "\n",
    "def sum_of_digits(n):\n",
    "    return sum(int(digit) for digit in str(n))  \n",
    "number = int(input(\"Enter a number: \"))\n",
    "result = sum_of_digits(number)  \n",
    "print(f\"The sum of digits of {number} is {result}.\") \n",
    "</code>\n",
    "</pre>\n",
    "</div>"
   ]
  },
  {
   "cell_type": "code",
   "execution_count": 7,
   "id": "27af94ef-36ae-4145-8dad-6e9921c961f2",
   "metadata": {},
   "outputs": [
    {
     "name": "stdin",
     "output_type": "stream",
     "text": [
      "Enter a number:  45654\n"
     ]
    },
    {
     "name": "stdout",
     "output_type": "stream",
     "text": [
      "The sum of digits of 45654 is 24.\n"
     ]
    }
   ],
   "source": [
    "#write a function to find some of all digits of a number\n",
    "def sum_of_digits(n):\n",
    "    return sum(int(digit) for digit in str(n))  \n",
    "number = int(input(\"Enter a number: \"))\n",
    "result = sum_of_digits(number)  \n",
    "print(f\"The sum of digits of {number} is {result}.\")"
   ]
  },
  {
   "cell_type": "markdown",
   "id": "1543f04b-4421-4a4b-83fb-1a810ae024e6",
   "metadata": {},
   "source": [
    "<!-- =============================== -->\n",
    "<!-- 3️⃣ Code Snippet Section (Display) -->\n",
    "<div style=\"background-color:#FFFACD; padding:15px; border-radius:8px;\">\n",
    "<h1 font-family:'Comic Sans MS','Bradley Hand'; font-weight:bold;\">\n",
    "<b> 8. Find the Second Largest Number in a List</b>\n",
    "</h1>\n",
    "\n",
    "\n",
    "<pre>\n",
    "<code>\n",
    "\n",
    "def second_largest(numbers):    \n",
    "    unique_numbers = list(set(numbers))\n",
    "    if len(unique_numbers) < 2:\n",
    "        return None\n",
    "    unique_numbers.sort()\n",
    "    return unique_numbers[-2]\n",
    "numbers = [int(x) for x in input(\"Enter numbers separated by space: \").split()]\n",
    "result = second_largest(numbers)        \n",
    "if result is not None:\n",
    "    print(\"The second largest number is:\", result)\n",
    "else:\n",
    "    print(\"There is no second largest number in the list.\")   \n",
    "</code>\n",
    "</pre>\n",
    "</div>"
   ]
  },
  {
   "cell_type": "code",
   "execution_count": 12,
   "id": "195d8b64-caf3-4ce4-8dd4-1e6616d415c4",
   "metadata": {},
   "outputs": [
    {
     "name": "stdin",
     "output_type": "stream",
     "text": [
      "Enter numbers separated by space:  22334\n"
     ]
    },
    {
     "name": "stdout",
     "output_type": "stream",
     "text": [
      "There is no second largest number in the list.\n"
     ]
    }
   ],
   "source": [
    "#find the second largest number in a list\n",
    "def second_largest(numbers):    \n",
    "    unique_numbers = list(set(numbers))\n",
    "    if len(unique_numbers) < 2:\n",
    "        return None\n",
    "    unique_numbers.sort()\n",
    "    return unique_numbers[-2]\n",
    "numbers = [int(x) for x in input(\"Enter numbers separated by space: \").split()]\n",
    "result = second_largest(numbers)        \n",
    "if result is not None:\n",
    "    print(\"The second largest number is:\", result)\n",
    "else:\n",
    "    print(\"There is no second largest number in the list.\")  "
   ]
  },
  {
   "cell_type": "markdown",
   "id": "00f4d876-b4cd-40eb-9956-f59f5d73a8cd",
   "metadata": {},
   "source": [
    "<!-- =============================== -->\n",
    "<!-- 3️⃣ Code Snippet Section (Display) -->\n",
    "<div style=\"background-color:#FFFACD; padding:15px; border-radius:8px;\">\n",
    "<h1 font-family:'Comic Sans MS','Bradley Hand'; font-weight:bold;\">\n",
    "<b> 9. Determine If The Given Number is Power of Two or Not</b>\n",
    "</h1>\n",
    "\n",
    "\n",
    "<pre>\n",
    "<code>\n",
    "def is_power_of_two(n):\n",
    "    if n <= 0:\n",
    "        return False\n",
    "    while n % 2 == 0:\n",
    "        n = n // 2\n",
    "    return n == 1\n",
    "\n",
    "num=int(input(\"enter the number\"))\n",
    "print( is_power_of_two(num))\n",
    "</code>\n",
    "</pre>\n",
    "</div>"
   ]
  },
  {
   "cell_type": "code",
   "execution_count": 29,
   "id": "1f2de459-3073-4b82-bcc2-ddec59d08326",
   "metadata": {},
   "outputs": [
    {
     "name": "stdin",
     "output_type": "stream",
     "text": [
      "enter the number 88\n"
     ]
    },
    {
     "name": "stdout",
     "output_type": "stream",
     "text": [
      "False\n"
     ]
    }
   ],
   "source": [
    "def is_power_of_two(n):\n",
    "    if n <= 0:\n",
    "        return False\n",
    "    while n % 2 == 0:\n",
    "        n = n // 2\n",
    "    return n == 1\n",
    "\n",
    "num=int(input(\"enter the number\"))\n",
    "print( is_power_of_two(num))\n"
   ]
  },
  {
   "cell_type": "markdown",
   "id": "82e9cf29-50de-49d9-bead-1cd947fe9fd5",
   "metadata": {},
   "source": [
    "<img src=\"WhatsApp Image 2025-07-08 at 14.29.53_009a89b6.jpg\" alt=\"Banner\" width=\"1500\">"
   ]
  }
 ],
 "metadata": {
  "kernelspec": {
   "display_name": "Python [conda env:base] *",
   "language": "python",
   "name": "conda-base-py"
  },
  "language_info": {
   "codemirror_mode": {
    "name": "ipython",
    "version": 3
   },
   "file_extension": ".py",
   "mimetype": "text/x-python",
   "name": "python",
   "nbconvert_exporter": "python",
   "pygments_lexer": "ipython3",
   "version": "3.13.5"
  }
 },
 "nbformat": 4,
 "nbformat_minor": 5
}
